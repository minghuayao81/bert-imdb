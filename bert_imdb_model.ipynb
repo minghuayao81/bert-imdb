{
 "cells": [
  {
   "cell_type": "code",
   "execution_count": 6,
   "id": "ada9c82e-c9b1-47c3-8bb8-6571ed27933a",
   "metadata": {},
   "outputs": [
    {
     "name": "stdout",
     "output_type": "stream",
     "text": [
      "Requirement already satisfied: torch in /Users/minghuayao/Dev/brew/anaconda3/lib/python3.10/site-packages (2.6.0)\n",
      "Requirement already satisfied: transformers in /Users/minghuayao/Dev/brew/anaconda3/lib/python3.10/site-packages (4.24.0)\n",
      "Requirement already satisfied: datasets in /Users/minghuayao/Dev/brew/anaconda3/lib/python3.10/site-packages (2.18.0)\n",
      "Requirement already satisfied: pandas in /Users/minghuayao/Dev/brew/anaconda3/lib/python3.10/site-packages (1.5.3)\n",
      "Requirement already satisfied: scikit-learn in /Users/minghuayao/Dev/brew/anaconda3/lib/python3.10/site-packages (1.2.1)\n",
      "Requirement already satisfied: numpy in /Users/minghuayao/Dev/brew/anaconda3/lib/python3.10/site-packages (1.23.5)\n",
      "Requirement already satisfied: filelock in /Users/minghuayao/Dev/brew/anaconda3/lib/python3.10/site-packages (from torch) (3.13.1)\n",
      "Requirement already satisfied: typing-extensions>=4.10.0 in /Users/minghuayao/Dev/brew/anaconda3/lib/python3.10/site-packages (from torch) (4.10.0)\n",
      "Requirement already satisfied: networkx in /Users/minghuayao/Dev/brew/anaconda3/lib/python3.10/site-packages (from torch) (2.8.4)\n",
      "Requirement already satisfied: jinja2 in /Users/minghuayao/Dev/brew/anaconda3/lib/python3.10/site-packages (from torch) (3.1.2)\n",
      "Requirement already satisfied: fsspec in /Users/minghuayao/Dev/brew/anaconda3/lib/python3.10/site-packages (from torch) (2024.2.0)\n",
      "Requirement already satisfied: sympy==1.13.1 in /Users/minghuayao/Dev/brew/anaconda3/lib/python3.10/site-packages (from torch) (1.13.1)\n",
      "Requirement already satisfied: mpmath<1.4,>=1.1.0 in /Users/minghuayao/Dev/brew/anaconda3/lib/python3.10/site-packages/mpmath-1.2.1-py3.10.egg (from sympy==1.13.1->torch) (1.2.1)\n",
      "Requirement already satisfied: huggingface-hub<1.0,>=0.10.0 in /Users/minghuayao/Dev/brew/anaconda3/lib/python3.10/site-packages (from transformers) (0.21.4)\n",
      "Requirement already satisfied: packaging>=20.0 in /Users/minghuayao/Dev/brew/anaconda3/lib/python3.10/site-packages (from transformers) (22.0)\n",
      "Requirement already satisfied: pyyaml>=5.1 in /Users/minghuayao/Dev/brew/anaconda3/lib/python3.10/site-packages (from transformers) (6.0)\n",
      "Requirement already satisfied: regex!=2019.12.17 in /Users/minghuayao/Dev/brew/anaconda3/lib/python3.10/site-packages (from transformers) (2022.7.9)\n",
      "Requirement already satisfied: requests in /Users/minghuayao/Dev/brew/anaconda3/lib/python3.10/site-packages (from transformers) (2.32.3)\n",
      "Requirement already satisfied: tokenizers!=0.11.3,<0.14,>=0.11.1 in /Users/minghuayao/Dev/brew/anaconda3/lib/python3.10/site-packages (from transformers) (0.11.4)\n",
      "Requirement already satisfied: tqdm>=4.27 in /Users/minghuayao/Dev/brew/anaconda3/lib/python3.10/site-packages (from transformers) (4.64.1)\n",
      "Requirement already satisfied: pyarrow>=12.0.0 in /Users/minghuayao/Dev/brew/anaconda3/lib/python3.10/site-packages (from datasets) (15.0.1)\n",
      "Requirement already satisfied: pyarrow-hotfix in /Users/minghuayao/Dev/brew/anaconda3/lib/python3.10/site-packages (from datasets) (0.6)\n",
      "Requirement already satisfied: dill<0.3.9,>=0.3.0 in /Users/minghuayao/Dev/brew/anaconda3/lib/python3.10/site-packages (from datasets) (0.3.8)\n",
      "Requirement already satisfied: xxhash in /Users/minghuayao/Dev/brew/anaconda3/lib/python3.10/site-packages (from datasets) (3.4.1)\n",
      "Requirement already satisfied: multiprocess in /Users/minghuayao/Dev/brew/anaconda3/lib/python3.10/site-packages (from datasets) (0.70.16)\n",
      "Requirement already satisfied: aiohttp in /Users/minghuayao/Dev/brew/anaconda3/lib/python3.10/site-packages (from datasets) (3.9.3)\n",
      "Requirement already satisfied: python-dateutil>=2.8.1 in /Users/minghuayao/Dev/brew/anaconda3/lib/python3.10/site-packages (from pandas) (2.8.2)\n",
      "Requirement already satisfied: pytz>=2020.1 in /Users/minghuayao/Dev/brew/anaconda3/lib/python3.10/site-packages (from pandas) (2022.7)\n",
      "Requirement already satisfied: scipy>=1.3.2 in /Users/minghuayao/Dev/brew/anaconda3/lib/python3.10/site-packages (from scikit-learn) (1.10.0)\n",
      "Requirement already satisfied: joblib>=1.1.1 in /Users/minghuayao/Dev/brew/anaconda3/lib/python3.10/site-packages (from scikit-learn) (1.1.1)\n",
      "Requirement already satisfied: threadpoolctl>=2.0.0 in /Users/minghuayao/Dev/brew/anaconda3/lib/python3.10/site-packages (from scikit-learn) (2.2.0)\n",
      "Requirement already satisfied: aiosignal>=1.1.2 in /Users/minghuayao/Dev/brew/anaconda3/lib/python3.10/site-packages (from aiohttp->datasets) (1.3.1)\n",
      "Requirement already satisfied: attrs>=17.3.0 in /Users/minghuayao/Dev/brew/anaconda3/lib/python3.10/site-packages (from aiohttp->datasets) (22.1.0)\n",
      "Requirement already satisfied: frozenlist>=1.1.1 in /Users/minghuayao/Dev/brew/anaconda3/lib/python3.10/site-packages (from aiohttp->datasets) (1.4.1)\n",
      "Requirement already satisfied: multidict<7.0,>=4.5 in /Users/minghuayao/Dev/brew/anaconda3/lib/python3.10/site-packages (from aiohttp->datasets) (6.0.5)\n",
      "Requirement already satisfied: yarl<2.0,>=1.0 in /Users/minghuayao/Dev/brew/anaconda3/lib/python3.10/site-packages (from aiohttp->datasets) (1.9.4)\n",
      "Requirement already satisfied: async-timeout<5.0,>=4.0 in /Users/minghuayao/Dev/brew/anaconda3/lib/python3.10/site-packages (from aiohttp->datasets) (4.0.3)\n",
      "Requirement already satisfied: six>=1.5 in /Users/minghuayao/Dev/brew/anaconda3/lib/python3.10/site-packages (from python-dateutil>=2.8.1->pandas) (1.16.0)\n",
      "Requirement already satisfied: charset-normalizer<4,>=2 in /Users/minghuayao/Dev/brew/anaconda3/lib/python3.10/site-packages (from requests->transformers) (2.0.4)\n",
      "Requirement already satisfied: idna<4,>=2.5 in /Users/minghuayao/Dev/brew/anaconda3/lib/python3.10/site-packages (from requests->transformers) (3.4)\n",
      "Requirement already satisfied: urllib3<3,>=1.21.1 in /Users/minghuayao/Dev/brew/anaconda3/lib/python3.10/site-packages (from requests->transformers) (2.2.2)\n",
      "Requirement already satisfied: certifi>=2017.4.17 in /Users/minghuayao/Dev/brew/anaconda3/lib/python3.10/site-packages (from requests->transformers) (2022.12.7)\n",
      "Requirement already satisfied: MarkupSafe>=2.0 in /Users/minghuayao/Dev/brew/anaconda3/lib/python3.10/site-packages (from jinja2->torch) (2.1.1)\n",
      "\n",
      "\u001b[1m[\u001b[0m\u001b[34;49mnotice\u001b[0m\u001b[1;39;49m]\u001b[0m\u001b[39;49m A new release of pip is available: \u001b[0m\u001b[31;49m24.1.2\u001b[0m\u001b[39;49m -> \u001b[0m\u001b[32;49m25.0.1\u001b[0m\n",
      "\u001b[1m[\u001b[0m\u001b[34;49mnotice\u001b[0m\u001b[1;39;49m]\u001b[0m\u001b[39;49m To update, run: \u001b[0m\u001b[32;49mpip install --upgrade pip\u001b[0m\n"
     ]
    }
   ],
   "source": [
    "!pip install torch transformers datasets torch pandas scikit-learn numpy"
   ]
  },
  {
   "cell_type": "code",
   "execution_count": 4,
   "id": "58de6937",
   "metadata": {},
   "outputs": [
    {
     "name": "stderr",
     "output_type": "stream",
     "text": [
      "/Users/minghuayao/Dev/brew/anaconda3/lib/python3.10/site-packages/tqdm/auto.py:22: TqdmWarning: IProgress not found. Please update jupyter and ipywidgets. See https://ipywidgets.readthedocs.io/en/stable/user_install.html\n",
      "  from .autonotebook import tqdm as notebook_tqdm\n"
     ]
    }
   ],
   "source": [
    "import torch\n",
    "from transformers import BertTokenizer, BertConfig\n",
    "from torch.utils.data import DataLoader\n",
    "from torch.optim import AdamW\n",
    "from transformers import get_linear_schedule_with_warmup, BertForSequenceClassification\n",
    "from datasets import load_dataset, DatasetDict, Dataset\n",
    "import numpy as np\n",
    "from sklearn.metrics import accuracy_score\n",
    "import pandas as pd\n",
    "from sklearn.model_selection import train_test_split\n",
    "import os\n",
    "from torch.utils.data.dataloader import default_collate\n",
    "from pathlib import Path\n",
    "from tqdm import tqdm"
   ]
  },
  {
   "cell_type": "code",
   "execution_count": null,
   "id": "c27e3ecc",
   "metadata": {},
   "outputs": [
    {
     "name": "stdout",
     "output_type": "stream",
     "text": [
      "cpu\n"
     ]
    }
   ],
   "source": [
    "# Hypterparameters\n",
    "MAX_LEN = 512\n",
    "BATCH_SIZE = 32\n",
    "EPOCHS = 5\n",
    "ROOT_DIR = \"/Users/minghuayao/AutoDL/\"\n",
    "OLD_MODEL_PATH = ROOT_DIR + \"models/bert-base-uncased/\"\n",
    "NEW_MODEL_PATH = ROOT_DIR + \"/models/new/\"\n",
    "DATA_SET = ROOT_DIR+ \"aclImdb/\"\n",
    "NUM_LABELS = 3\n",
    "LEARNING_RATE = 2e-5\n",
    "DEVICE = torch.device(\"cuda\" if torch.cuda.is_available() else \"cpu\")\n",
    "print(DEVICE)"
   ]
  },
  {
   "cell_type": "code",
   "execution_count": 9,
   "id": "9c4871e6",
   "metadata": {},
   "outputs": [],
   "source": [
    "def load_aclimdb_directory(data_dir):\n",
    "    data = []\n",
    "    # traverse pos and neg folders\n",
    "    # for label_type in [\"pos\", \"neg\", \"unsup\"]:\n",
    "    for label_type in [\"pos\", \"neg\"]:\n",
    "        dir_path = os.path.join(data_dir, label_type)\n",
    "        if label_type == \"pos\":\n",
    "            label = 0\n",
    "        elif label_type == \"neg\":\n",
    "            label = 1\n",
    "        else:\n",
    "            label = 2\n",
    "\n",
    "        if os.path.exists(dir_path):\n",
    "            for filename in os.listdir(dir_path):\n",
    "                if filename.endswith(\".txt\"):\n",
    "                    with open(os.path.join(dir_path, filename), \"r\", encoding=\"utf-8\") as f:\n",
    "                        text = f.read()\n",
    "                        # dict: text and label\n",
    "                        data.append({\"text\": text, \"label\": label})\n",
    "                        \n",
    "    return pd.DataFrame(data)\n",
    "\n",
    "# load train set and test set\n",
    "train_dir = os.path.join(DATA_SET, \"train\")\n",
    "test_dir = os.path.join(DATA_SET, \"test\")\n",
    "train_df = load_aclimdb_directory(train_dir)\n",
    "test_df = load_aclimdb_directory(test_dir)"
   ]
  },
  {
   "cell_type": "code",
   "execution_count": 10,
   "id": "d3ed8bc8",
   "metadata": {},
   "outputs": [
    {
     "name": "stdout",
     "output_type": "stream",
     "text": [
      "(25000, 2)\n",
      "(25000, 2)\n"
     ]
    }
   ],
   "source": [
    "print(train_df.shape)\n",
    "print(test_df.shape)"
   ]
  },
  {
   "cell_type": "code",
   "execution_count": 11,
   "id": "bf088ab1",
   "metadata": {},
   "outputs": [],
   "source": [
    "def load_and_preprocess_data():\n",
    "    # load data\n",
    "    train_df = load_aclimdb_directory(train_dir)\n",
    "    test_df = load_aclimdb_directory(test_dir)\n",
    "\n",
    "    tokenizer = BertTokenizer.from_pretrained(OLD_MODEL_PATH)\n",
    "    def tokenize_function(examples):\n",
    "        return tokenizer(\n",
    "            examples[\"text\"],\n",
    "            padding=\"max_length\",  # auto padding to max length\n",
    "            truncation=True,       \n",
    "            max_length=MAX_LEN,    # set max length\n",
    "            return_tensors=\"pt\"    # return PyTorch tensor\n",
    "        )\n",
    "    \n",
    "    # create dataset\n",
    "    from datasets import Dataset\n",
    "    train_dataset = Dataset.from_pandas(train_df)\n",
    "    test_dataset = Dataset.from_pandas(test_df)\n",
    "\n",
    "    # tokenizer\n",
    "    tokenized_train = train_dataset.map(\n",
    "        tokenize_function,\n",
    "        batched=True,\n",
    "        remove_columns=[\"text\"]\n",
    "    )\n",
    "\n",
    "    tokenized_test = test_dataset.map(\n",
    "        tokenize_function,\n",
    "        batched=True,\n",
    "        remove_columns=[\"text\"]\n",
    "    )\n",
    "\n",
    "    # format tensor\n",
    "    tokenized_train.set_format(\n",
    "        type=\"torch\", \n",
    "        columns=[\"input_ids\", \"attention_mask\", \"label\"]\n",
    "    )\n",
    "    tokenized_test.set_format(\n",
    "        type=\"torch\", \n",
    "        columns=[\"input_ids\", \"attention_mask\", \"label\"]\n",
    "    )\n",
    "    \n",
    "    return DatasetDict({\n",
    "        \"train\": tokenized_train.rename_column(\"label\", \"labels\"),\n",
    "        \"test\": tokenized_test.rename_column(\"label\", \"labels\")\n",
    "    })"
   ]
  },
  {
   "cell_type": "raw",
   "id": "f3cb85e8-35d8-4444-a74f-3db028d7cc2d",
   "metadata": {},
   "source": [
    "final_dataset = load_and_preprocess_data()\n",
    "# make sure format is correct\n",
    "sample = final_dataset[\"train\"][0]\n",
    "print(type(sample[\"input_ids\"]))  # expected output: <class 'torch.Tensor'>\n",
    "print(sample[\"input_ids\"].shape)  # expected output: torch.Size([512])\n",
    "print(sample[\"labels\"])           # expected output: label value"
   ]
  },
  {
   "cell_type": "code",
   "execution_count": 12,
   "id": "a9d1e4bc",
   "metadata": {},
   "outputs": [],
   "source": [
    "def create_model():\n",
    "    config = BertConfig.from_pretrained(\n",
    "        OLD_MODEL_PATH,\n",
    "        num_labels=NUM_LABELS\n",
    "    )\n",
    "    return BertForSequenceClassification.from_pretrained(OLD_MODEL_PATH, config=config)"
   ]
  },
  {
   "cell_type": "code",
   "execution_count": 6,
   "id": "3fdd3923",
   "metadata": {},
   "outputs": [],
   "source": [
    "def predict(new_model_path, text):\n",
    "    try:\n",
    "        # input validation\n",
    "        if not isinstance(text, str) or not text.strip():\n",
    "            raise ValueError(\"text should not be empty\")\n",
    "            \n",
    "        model_path = Path(new_model_path)\n",
    "        if not model_path.exists():\n",
    "            raise FileNotFoundError(f\"model does not exist：{model_path}\")\n",
    "            \n",
    "        # Load model \n",
    "        # tokenizer\n",
    "        tokenizer = BertTokenizer.from_pretrained(model_path)\n",
    "\n",
    "        # model\n",
    "        model = BertForSequenceClassification.from_pretrained(\n",
    "            model_path, \n",
    "            num_labels=3,\n",
    "            id2label={0: \"POSITIVE\", 1: \"NEGATIVE\", 2: \"UNKNOWN\"},\n",
    "            label2id={\"POSITIVE\":0, \"NEGATIVE\":1, \"UNKNOWN\":2},\n",
    "            local_files_only=True\n",
    "        ).to(DEVICE)\n",
    "\n",
    "        # preprocessing\n",
    "        inputs = tokenizer(\n",
    "            text,\n",
    "            max_length=MAX_LEN,\n",
    "            padding=\"max_length\",\n",
    "            truncation=True,\n",
    "            return_tensors=\"pt\"\n",
    "        ).to(DEVICE)\n",
    "\n",
    "        # prediction\n",
    "        model.eval()\n",
    "        with torch.inference_mode():\n",
    "            outputs = model(**inputs)\n",
    "        print(outputs.logits)\n",
    "\n",
    "        # label casting\n",
    "        label_map = getattr(model.config, \"id2label\", {})\n",
    "        print(label_map)\n",
    "        \n",
    "        return label_map.get(outputs.logits.argmax().item(), \"UNKNOWN\")\n",
    "        \n",
    "    except Exception as e:\n",
    "        error_msg = f\"\"\"\n",
    "        Predict failed:\n",
    "        1. input text length: {len(text)} characters\n",
    "        2. error details: {str(e)}\n",
    "        \"\"\"        \n",
    "        raise RuntimeError(error_msg) from e"
   ]
  },
  {
   "cell_type": "code",
   "execution_count": 14,
   "id": "e8939fb8",
   "metadata": {},
   "outputs": [],
   "source": [
    "def train_model(model, train_loader, val_loader):\n",
    "    model.to(DEVICE)\n",
    "    \n",
    "    optimizer = AdamW(model.parameters(), lr=LEARNING_RATE)\n",
    "    \n",
    "    scheduler = get_linear_schedule_with_warmup(\n",
    "        optimizer,\n",
    "        num_warmup_steps=100,\n",
    "        num_training_steps=1000\n",
    "    )\n",
    "    \n",
    "    best_val_acc = 0.0\n",
    "    \n",
    "    for epoch in range(EPOCHS):\n",
    "        model.train()\n",
    "        total_train_loss = 0.0\n",
    "        total_train_correct = 0\n",
    "        total_train_samples = 0\n",
    "\n",
    "        progress_bar = tqdm(train_loader, desc=f\"Epoch {epoch+1} [Training]\", leave=False)\n",
    "        for batch in progress_bar:\n",
    "            input_ids = batch[\"input_ids\"].to(DEVICE)\n",
    "            attention_mask = batch[\"attention_mask\"].to(DEVICE)\n",
    "            labels = batch[\"labels\"].to(DEVICE)\n",
    "\n",
    "            # grad\n",
    "            optimizer.zero_grad()\n",
    "\n",
    "            # fwd\n",
    "            outputs = model(input_ids=input_ids,\n",
    "                            attention_mask=attention_mask,\n",
    "                            labels=labels\n",
    "            )\n",
    "            loss = outputs.loss\n",
    "            logits = outputs.logits\n",
    "\n",
    "            # accuracy\n",
    "            preds = torch.argmax(logits, dim=1)\n",
    "            correct = (preds == labels).sum().item()\n",
    "            total_train_correct += correct\n",
    "            total_train_samples += labels.size(0)\n",
    "\n",
    "            # backward and optim\n",
    "            loss.backward()\n",
    "            optimizer.step()\n",
    "            scheduler.step()\n",
    "            optimizer.zero_grad()\n",
    "\n",
    "            total_train_loss += loss.item()\n",
    "            progress_bar.set_postfix({\"loss\": f\"{loss.item():.4f}\"})\n",
    "\n",
    "        # train set average loss and accuracy\n",
    "        avg_train_loss = total_train_loss / len(train_loader)\n",
    "        train_accuracy = total_train_correct / total_train_samples\n",
    "\n",
    "        # evaluation\n",
    "        model.eval()\n",
    "        total_val_loss = 0.0\n",
    "        total_val_correct = 0\n",
    "        total_val_samples = 0\n",
    "\n",
    "        with torch.no_grad():\n",
    "            for batch in tqdm(val_loader, desc=f\"Epoch {epoch+1} [Validation]\", leave=False):\n",
    "                input_ids = batch[\"input_ids\"].to(DEVICE)\n",
    "                attention_mask = batch[\"attention_mask\"].to(DEVICE)\n",
    "                labels = batch[\"labels\"].to(DEVICE)\n",
    "\n",
    "                outputs = model(\n",
    "                    input_ids=input_ids,\n",
    "                    attention_mask=attention_mask,\n",
    "                    labels=labels\n",
    "                )\n",
    "                \n",
    "                loss = outputs.loss\n",
    "                logits = outputs.logits\n",
    "\n",
    "                preds = torch.argmax(logits, dim=1)\n",
    "                correct = (preds == labels).sum().item()\n",
    "                total_val_correct += correct\n",
    "                total_val_samples += labels.size(0)\n",
    "\n",
    "                total_val_loss += loss.item()\n",
    "\n",
    "        avg_val_loss = total_val_loss / len(val_loader)\n",
    "        val_accuracy = total_val_correct / total_val_samples\n",
    "\n",
    "        print(f'Epoch {epoch+1}/{EPOCHS}')\n",
    "        print(f'Train Loss: {avg_train_loss:.4f}, Accuracy: {train_accuracy:.4f}')\n",
    "        print(f'Val Loss: {avg_val_loss:.4f}, Accuracy: {val_accuracy:.4f}')\n",
    "\n",
    "        # save best model\n",
    "        if val_accuracy > best_val_acc:\n",
    "            best_val_acc = val_accuracy\n",
    "            torch.save(model.state_dict(), 'best_model.pth')\n",
    "            print(f'Best model saved with val accuracy: {best_val_acc:.4f}')\n",
    "\n",
    "    print('Training complete')\n",
    "    print(f\"Best validation accuracy: {best_val_acc:.4f}\")"
   ]
  },
  {
   "cell_type": "code",
   "execution_count": 15,
   "id": "480eeb9c",
   "metadata": {},
   "outputs": [],
   "source": [
    "def collate_fn(batch):\n",
    "    return {\n",
    "        \"input_ids\": torch.stack([x[\"input_ids\"] for x in batch]),\n",
    "        \"attention_mask\": torch.stack([x[\"attention_mask\"] for x in batch]),\n",
    "        \"labels\": torch.tensor([x[\"labels\"] for x in batch])\n",
    "    }"
   ]
  },
  {
   "cell_type": "code",
   "execution_count": null,
   "id": "0561991a-3c16-4c97-8ec7-321c86f943f4",
   "metadata": {},
   "outputs": [
    {
     "name": "stderr",
     "output_type": "stream",
     "text": [
      "Map: 100%|██████████| 25000/25000 [00:49<00:00, 503.09 examples/s]\n",
      "Map: 100%|██████████| 25000/25000 [00:47<00:00, 523.68 examples/s]\n",
      "Some weights of the model checkpoint at /Users/minghuayao/AutoDL/models/bert-base-uncased/ were not used when initializing BertForSequenceClassification: ['cls.seq_relationship.weight', 'cls.seq_relationship.bias', 'cls.predictions.transform.dense.weight', 'cls.predictions.bias', 'cls.predictions.transform.dense.bias', 'cls.predictions.transform.LayerNorm.weight', 'cls.predictions.decoder.weight', 'cls.predictions.transform.LayerNorm.bias']\n",
      "- This IS expected if you are initializing BertForSequenceClassification from the checkpoint of a model trained on another task or with another architecture (e.g. initializing a BertForSequenceClassification model from a BertForPreTraining model).\n",
      "- This IS NOT expected if you are initializing BertForSequenceClassification from the checkpoint of a model that you expect to be exactly identical (initializing a BertForSequenceClassification model from a BertForSequenceClassification model).\n",
      "Some weights of BertForSequenceClassification were not initialized from the model checkpoint at /Users/minghuayao/AutoDL/models/bert-base-uncased/ and are newly initialized: ['classifier.weight', 'classifier.bias']\n",
      "You should probably TRAIN this model on a down-stream task to be able to use it for predictions and inference.\n"
     ]
    },
    {
     "ename": "",
     "evalue": "",
     "output_type": "error",
     "traceback": [
      "\u001b[1;31mThe Kernel crashed while executing code in the current cell or a previous cell. \n",
      "\u001b[1;31mPlease review the code in the cell(s) to identify a possible cause of the failure. \n",
      "\u001b[1;31mClick <a href='https://aka.ms/vscodeJupyterKernelCrash'>here</a> for more info. \n",
      "\u001b[1;31mView Jupyter <a href='command:jupyter.viewOutput'>log</a> for further details."
     ]
    }
   ],
   "source": [
    "if __name__ == \"__main__\":    \n",
    "    dataset = load_and_preprocess_data()\n",
    "    tokenizer = BertTokenizer.from_pretrained(OLD_MODEL_PATH)\n",
    "    \n",
    "    model = create_model()\n",
    "\n",
    "    train_loader = DataLoader(\n",
    "        dataset[\"train\"],\n",
    "        batch_size=32,\n",
    "        shuffle=True,\n",
    "        collate_fn=collate_fn\n",
    "    )\n",
    "\n",
    "    val_loader = DataLoader(\n",
    "        dataset[\"test\"],\n",
    "        batch_size=32,\n",
    "        collate_fn=collate_fn\n",
    "    )\n",
    "\n",
    "    # train_model(model, train_loader, val_loader)\n",
    "\n",
    "    # def full_save_model(model, tokenizer, save_dir):\n",
    "    #     model.save_pretrained(save_dir)\n",
    "    #     tokenizer.save_pretrained(save_dir)\n",
    "\n",
    "    # full_save_model(model, tokenizer, NEW_MODEL_PATH)"
   ]
  },
  {
   "cell_type": "code",
   "execution_count": 7,
   "id": "209748d2-caac-499f-a286-82b042de1d4e",
   "metadata": {},
   "outputs": [
    {
     "name": "stdout",
     "output_type": "stream",
     "text": [
      "tensor([[ 3.4851, -1.9409, -1.2994]])\n",
      "{0: 'POSITIVE', 1: 'NEGATIVE', 2: 'UNKNOWN'}\n",
      "POSITIVE\n"
     ]
    }
   ],
   "source": [
    "# 使用样例\n",
    "print(predict(NEW_MODEL_PATH, \"This movie is absolutely wonderful!\"))"
   ]
  },
  {
   "cell_type": "code",
   "execution_count": 8,
   "id": "f85447ae",
   "metadata": {},
   "outputs": [
    {
     "name": "stdout",
     "output_type": "stream",
     "text": [
      "tensor([[-1.5532,  2.3398, -1.7167]])\n",
      "{0: 'POSITIVE', 1: 'NEGATIVE', 2: 'UNKNOWN'}\n",
      "NEGATIVE\n"
     ]
    }
   ],
   "source": [
    "# 使用样例\n",
    "print(predict(NEW_MODEL_PATH, \"What a crap! Sucks!\"))"
   ]
  },
  {
   "cell_type": "code",
   "execution_count": 9,
   "id": "f4e9e731-e0dc-4ba4-ada6-6d31baea15d5",
   "metadata": {},
   "outputs": [
    {
     "name": "stdout",
     "output_type": "stream",
     "text": [
      "tensor([[ 2.4937, -1.4051, -0.7279]])\n",
      "{0: 'POSITIVE', 1: 'NEGATIVE', 2: 'UNKNOWN'}\n",
      "POSITIVE\n"
     ]
    }
   ],
   "source": [
    "# 使用样例\n",
    "print(predict(NEW_MODEL_PATH, \"love it\"))"
   ]
  },
  {
   "cell_type": "code",
   "execution_count": 11,
   "id": "a6612be6-ff98-4a05-b858-f181206b5ea0",
   "metadata": {},
   "outputs": [
    {
     "name": "stdout",
     "output_type": "stream",
     "text": [
      "tensor([[ 1.4876, -0.4954, -0.8180]])\n",
      "{0: 'POSITIVE', 1: 'NEGATIVE', 2: 'UNKNOWN'}\n",
      "POSITIVE\n"
     ]
    }
   ],
   "source": [
    "# 使用样例\n",
    "print(predict(NEW_MODEL_PATH, \"fantastic\"))"
   ]
  },
  {
   "cell_type": "code",
   "execution_count": null,
   "id": "c0925c84",
   "metadata": {},
   "outputs": [],
   "source": []
  }
 ],
 "metadata": {
  "kernelspec": {
   "display_name": "Python 3",
   "language": "python",
   "name": "python3"
  },
  "language_info": {
   "codemirror_mode": {
    "name": "ipython",
    "version": 3
   },
   "file_extension": ".py",
   "mimetype": "text/x-python",
   "name": "python",
   "nbconvert_exporter": "python",
   "pygments_lexer": "ipython3",
   "version": "3.10.9"
  }
 },
 "nbformat": 4,
 "nbformat_minor": 5
}
